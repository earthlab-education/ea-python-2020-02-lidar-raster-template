{
 "cells": [
  {
   "cell_type": "markdown",
   "metadata": {},
   "source": [
    "<img style=\"float: left;\" src=\"earth-lab-logo-rgb.png\" width=\"150\" height=\"150\" />\n",
    "\n",
    "# Earth Analytics Python Course: Spring 2020"
   ]
  },
  {
   "cell_type": "markdown",
   "metadata": {},
   "source": [
    "Before submitting this assignment, be sure to restart the kernel and run all cells. To do this, pull down the Kernel drop down at the top of this notebook. Then select **restart and run all**.\n",
    "\n",
    "Make sure you fill in any place that says `YOUR CODE HERE` or \"YOUR ANSWER HERE\", as well as your name and collaborators below."
   ]
  },
  {
   "cell_type": "code",
   "execution_count": null,
   "metadata": {},
   "outputs": [],
   "source": [
    "NAME = \"\"\n",
    "COLLABORATORS = \"\""
   ]
  },
  {
   "cell_type": "markdown",
   "metadata": {},
   "source": [
    "---"
   ]
  },
  {
   "cell_type": "markdown",
   "metadata": {
    "deletable": false,
    "editable": false,
    "nbgrader": {
     "cell_type": "markdown",
     "checksum": "9c03f38f74edf7d9a0f0f99b011e37fe",
     "grade": false,
     "grade_id": "cell-d8ef001d6e389a94",
     "locked": true,
     "schema_version": 3,
     "solution": false,
     "task": false
    }
   },
   "source": [
    "# Homework 2 - Lidar & Raster Data\n",
    "## About the 2013 Colorado Floods\n",
    "\n",
    "The data that you will use for this assignment is the same data that you used in the last assignment. Use: `et.data.get_data(\"colorado-flood\")` to download the data if you do not already have it. \n",
    "\n",
    "Using the data from the directory as follows:\n",
    "\n",
    "In the `colorado-flood/spatial/boulder-leehill-rd/` you will see two directories - pre and post flood. each of these directories contains a lidar sub directory that has a DTM and a DSM.tif file. You will use these files to create your lidar CHM. \n",
    "\n",
    "\n",
    "For all of the plots below, be sure to do the following:\n",
    "* State the source of each dataset that you use to create the plot either as a plot label or in a caption below the plot\n",
    "* Make sure each plot has a clear TITLE and, where appropriate, label the x and y axes. Be sure to include UNITS in your labels!\n",
    "* Analyze / interpret what each plot shows in a markdown cell in your notebook. State what the source of the data are and what the plot shows as a driver or impact of the 2013 flood events.\n",
    "* Clearly document that steps that you took to process the data by commenting your code\n",
    "* Use clean coding practices - this includes comments, variable names that are informative, clean code spacing, following PEP 8 Python code style guide.\n",
    "* Make sure all of the libraries that you use in the report are listed in a code cell at the TOP of your Notebook.\n",
    "* Spell check your Notebook before submitting it.\n",
    "* Include a markdown cell for each histogram that briefly describes how you selected the classification values used in the raster plots referencing the histograms of the data that you create.\n",
    "\n",
    "\n",
    "\n",
    "### Write Up\n",
    "In your notebook, create markdown cells below each raster plot that describes what your classification map shows about changes in the landscape before and after the flood.\n",
    "\n",
    "Be sure to spell check and proof your text before submitting!\n",
    "\n",
    "\n"
   ]
  },
  {
   "cell_type": "code",
   "execution_count": null,
   "metadata": {
    "deletable": false,
    "editable": false,
    "nbgrader": {
     "cell_type": "code",
     "checksum": "a9113104e5e961a991263edf60313d02",
     "grade": false,
     "grade_id": "cell-25bb644a26946e55",
     "locked": true,
     "schema_version": 3,
     "solution": false,
     "task": false
    }
   },
   "outputs": [],
   "source": [
    "# Imports for autograding - do not edit!\n",
    "import matplotcheck.base as mpc\n",
    "import matplotcheck.autograde as ag\n",
    "import matplotcheck.notebook as nb\n",
    "import matplotcheck.raster as ra"
   ]
  },
  {
   "cell_type": "markdown",
   "metadata": {
    "deletable": false,
    "editable": false,
    "nbgrader": {
     "cell_type": "markdown",
     "checksum": "69a1192f5e4e345173d10c0e16e77ac3",
     "grade": false,
     "grade_id": "cell-a2524a0148172559",
     "locked": true,
     "schema_version": 3,
     "solution": false,
     "task": false
    }
   },
   "source": [
    "## PLOT 1: pre/post CHM difference raster histogram:\n",
    "\n",
    "Create a cropped raster map that shows positive and negative change in the canopy height model before and after the flood. To do this:\n",
    "\n",
    "* Subtract the pre-flood CHM from the post-flood CHM (post_flood_CHM - pre_flood_CHM).\n",
    "* Crop the data using the data/colorado-flood/spatial/boulder-leehill-rd/clip-extent.shp`crop_extent shapefile.\n",
    "\n",
    "NOTE: I am asking you to subtract the pre-conditions from the post conditions to ensure that your negative values  represent loss of terrain. This will be easier for you to explain in your writeup! \n",
    "\n",
    "IMPORTANT: \n",
    "* Name your difference CHM object: `diff_chm_crop`.\n",
    "* Set your bin values to 30 for your plot.\n"
   ]
  },
  {
   "cell_type": "code",
   "execution_count": null,
   "metadata": {
    "deletable": false,
    "nbgrader": {
     "cell_type": "code",
     "checksum": "75011b9cb327daddba6d912963ef80ac",
     "grade": true,
     "grade_id": "cell-bca20868ba87b303",
     "locked": false,
     "points": 5,
     "schema_version": 3,
     "solution": true,
     "task": false
    }
   },
   "outputs": [],
   "source": [
    "# Import libraries here - be sure to only list packaged used in this assignment \n",
    "# Use pep 8 guidelines for the package order.\n",
    "\n",
    "# YOUR CODE HERE\n",
    "raise NotImplementedError()"
   ]
  },
  {
   "cell_type": "code",
   "execution_count": null,
   "metadata": {
    "deletable": false,
    "nbgrader": {
     "cell_type": "code",
     "checksum": "2db3e132d4168dc9f0cf5321640cc56e",
     "grade": false,
     "grade_id": "cell-9f56226276835799",
     "locked": false,
     "schema_version": 3,
     "solution": true,
     "task": false
    }
   },
   "outputs": [],
   "source": [
    "# In this cell, create the difference CHM & DTM objects - it should be a numpy array.\n",
    "# IMPORTANT: Name this object diff_chm_crop\n",
    "\n",
    "# YOUR CODE HERE\n",
    "raise NotImplementedError()"
   ]
  },
  {
   "cell_type": "code",
   "execution_count": null,
   "metadata": {
    "deletable": false,
    "editable": false,
    "nbgrader": {
     "cell_type": "code",
     "checksum": "8f28fa131ebd8b04dca8b57050b1f8e3",
     "grade": true,
     "grade_id": "cell-b137bbe76ae694da",
     "locked": true,
     "points": 3,
     "schema_version": 3,
     "solution": false,
     "task": false
    }
   },
   "outputs": [],
   "source": [
    "# Let's make sure you created an object with the correct name and of the correct type above! (5 Points)\n",
    "try:\n",
    "    isinstance(diff_chm_crop, np.ndarray)\n",
    "    print(\"Great! Your diff chm object is the correct type - np.ndarray\")\n",
    "except AssertionError as message:\n",
    "    print(\"AssertionError:\",\n",
    "          \"Oops, your clipped image should be a numpy array.\")"
   ]
  },
  {
   "cell_type": "markdown",
   "metadata": {
    "deletable": false,
    "editable": false,
    "nbgrader": {
     "cell_type": "markdown",
     "checksum": "2c8659319b766d42c54ff868846d4107",
     "grade": false,
     "grade_id": "cell-0c4c816c6b9321be",
     "locked": true,
     "schema_version": 3,
     "solution": false,
     "task": false
    }
   },
   "source": [
    "## Plot 1: Histogram of the cropped data"
   ]
  },
  {
   "cell_type": "code",
   "execution_count": null,
   "metadata": {
    "deletable": false,
    "nbgrader": {
     "cell_type": "code",
     "checksum": "7969f1638fb58da2467471d559962029",
     "grade": false,
     "grade_id": "cell-90b101c4d7f0287f",
     "locked": false,
     "schema_version": 3,
     "solution": true,
     "task": false
    }
   },
   "outputs": [],
   "source": [
    "# IMPORTANT: Do not use plt.show in this cell. Add your code to produce plot 1 here\n",
    "\n",
    "# YOUR CODE HERE\n",
    "raise NotImplementedError()\n",
    "\n",
    "### DO NOT REMOVE LINE BELOW ###\n",
    "plot01_chm_diff_hist = nb.convert_axes(plt, which_axes=\"current\")"
   ]
  },
  {
   "cell_type": "code",
   "execution_count": null,
   "metadata": {
    "deletable": false,
    "editable": false,
    "nbgrader": {
     "cell_type": "code",
     "checksum": "e52d3a0b165996ec1ba658d0394b1e78",
     "grade": true,
     "grade_id": "cell-3a3915ed818f44e3",
     "locked": true,
     "points": 15,
     "schema_version": 3,
     "solution": false,
     "task": false
    }
   },
   "outputs": [],
   "source": []
  },
  {
   "cell_type": "markdown",
   "metadata": {
    "deletable": false,
    "editable": false,
    "nbgrader": {
     "cell_type": "markdown",
     "checksum": "6cefd498b1d44eccb4f46744f2826917",
     "grade": false,
     "grade_id": "cell-03264e2fda7d2fb5",
     "locked": true,
     "schema_version": 3,
     "solution": false,
     "task": false
    }
   },
   "source": [
    "## What does the histogram show you?\n",
    "Answer the following questions:\n",
    "\n",
    "1. What do each bar in the histogram plot above represent?\n",
    "2. What does this histogram tell you about differences in the CHM and in the landscape before vs after the flood?\n",
    "3. What is the source of the data that you used to create this plot?\n",
    " "
   ]
  },
  {
   "cell_type": "markdown",
   "metadata": {
    "deletable": false,
    "nbgrader": {
     "cell_type": "markdown",
     "checksum": "e8288feef7847c6c16f9416250c35110",
     "grade": true,
     "grade_id": "cell-8d9f1017e96dea99",
     "locked": false,
     "points": 5,
     "schema_version": 3,
     "solution": true,
     "task": false
    }
   },
   "source": [
    "YOUR ANSWER HERE"
   ]
  },
  {
   "cell_type": "markdown",
   "metadata": {
    "deletable": false,
    "editable": false,
    "nbgrader": {
     "cell_type": "markdown",
     "checksum": "75bd6176cf506ab39abd3202b0f6bc78",
     "grade": false,
     "grade_id": "cell-cf77970a1d126bcc",
     "locked": true,
     "schema_version": 3,
     "solution": false,
     "task": false
    }
   },
   "source": [
    "## Plot 2: Classified pre/post CHM difference raster\n",
    "\n",
    "In the cell below, create a plot of the classified the lidar Canopy Height Model raster that you used to create the histogram above. \n",
    "\n",
    "Use the following bins to classify your data:\n",
    "\n",
    "* `< -1`\n",
    "* `between -1 and 1` \n",
    "* `> 1`\n",
    "\n",
    "Compare your output plotted raster with your histogram."
   ]
  },
  {
   "cell_type": "code",
   "execution_count": null,
   "metadata": {
    "deletable": false,
    "nbgrader": {
     "cell_type": "code",
     "checksum": "e89e0a4a02d4a638b6d906a1a8392aff",
     "grade": false,
     "grade_id": "cell-38af4d7a7532ffc5",
     "locked": false,
     "schema_version": 3,
     "solution": true,
     "task": false
    }
   },
   "outputs": [],
   "source": [
    "# IMPORTANT: Name your classified raster object diff_chm_class\n",
    "# IMPORTANT: Do not use plt.show in this cell.\n",
    "\n",
    "# YOUR CODE HERE\n",
    "raise NotImplementedError()\n",
    "\n",
    "### DO NOT REMOVE LINE BELOW ###\n",
    "plot02_chm_diff_map = nb.convert_axes(plt, which_axes=\"current\")"
   ]
  },
  {
   "cell_type": "code",
   "execution_count": null,
   "metadata": {
    "deletable": false,
    "editable": false,
    "nbgrader": {
     "cell_type": "code",
     "checksum": "4364fcccdabf841a5bab70f2d56b955f",
     "grade": true,
     "grade_id": "cell-d70d68f831221bb2",
     "locked": true,
     "points": 14,
     "schema_version": 3,
     "solution": false,
     "task": false
    }
   },
   "outputs": [],
   "source": []
  },
  {
   "cell_type": "markdown",
   "metadata": {
    "deletable": false,
    "editable": false,
    "nbgrader": {
     "cell_type": "markdown",
     "checksum": "420b26671f44ca4e49d4b614723fec05",
     "grade": false,
     "grade_id": "cell-2b49bc078226308e",
     "locked": true,
     "points": 6,
     "schema_version": 3,
     "solution": false,
     "task": true
    }
   },
   "source": [
    "# Manually Graded elements\n",
    "* Legend has correct labels and colors (3 points)\n",
    "* X and y axis labels and ticks are not displayed (3 points)"
   ]
  },
  {
   "cell_type": "markdown",
   "metadata": {
    "deletable": false,
    "nbgrader": {
     "cell_type": "markdown",
     "checksum": "53360400060cf809c8079c7d9c5c95de",
     "grade": true,
     "grade_id": "cell-a1b794bafcf672ad",
     "locked": false,
     "points": 5,
     "schema_version": 3,
     "solution": true,
     "task": false
    }
   },
   "source": [
    "YOUR ANSWER HERE"
   ]
  },
  {
   "cell_type": "markdown",
   "metadata": {
    "deletable": false,
    "editable": false,
    "nbgrader": {
     "cell_type": "markdown",
     "checksum": "be24b46668322182721e56584a1a676f",
     "grade": false,
     "grade_id": "cell-17508c49f61c4a83",
     "locked": true,
     "schema_version": 3,
     "solution": false,
     "task": false
    }
   },
   "source": [
    "## Plot 3: pre/post DTM difference raster (xx points)\n",
    "\n",
    "Create a cropped raster map that shows positive and negative change in the digital terrain model before and after the flood. To do this:\n",
    "\n",
    "* Subtract the pre-flood DTM from the post-flood DTM (post_flood_DTM - pre_flood_DTM).\n",
    "* Crop the data using the data/colorado-flood/spatial/boulder-leehill-rd/clip-extent.shp` crop_extent shapefile.\n",
    "\n",
    "Classify the data using the following range values:\n",
    "* `< -1`\n",
    "* `between -1 and 1` \n",
    "* `> 1`\n"
   ]
  },
  {
   "cell_type": "code",
   "execution_count": null,
   "metadata": {
    "deletable": false,
    "nbgrader": {
     "cell_type": "code",
     "checksum": "be7c0ea58622e81d1163c2e22a719c3b",
     "grade": false,
     "grade_id": "cell-c8762f7833b19721",
     "locked": false,
     "schema_version": 3,
     "solution": true,
     "task": false
    }
   },
   "outputs": [],
   "source": [
    "# IMPORTANT: Name your classified raster object diff_dtm_crop_class\n",
    "# IMPORTANT: Do not use plt.show in this cell.\n",
    "\n",
    "# YOUR CODE HERE\n",
    "raise NotImplementedError()\n",
    "\n",
    "### DO NOT REMOVE LINE BELOW ###\n",
    "plot_3_answer = nb.convert_axes(plt, which_axes='current')"
   ]
  },
  {
   "cell_type": "code",
   "execution_count": null,
   "metadata": {
    "deletable": false,
    "editable": false,
    "nbgrader": {
     "cell_type": "code",
     "checksum": "62379027056073243bc07df0e3ba1337",
     "grade": true,
     "grade_id": "cell-2aefa3e962a51903",
     "locked": true,
     "points": 14,
     "schema_version": 3,
     "solution": false,
     "task": false
    }
   },
   "outputs": [],
   "source": []
  },
  {
   "cell_type": "markdown",
   "metadata": {
    "deletable": false,
    "editable": false,
    "nbgrader": {
     "cell_type": "markdown",
     "checksum": "c2c15a82b2cf54d3449b8b46761665e9",
     "grade": false,
     "grade_id": "cell-d436fe7655b3b0f3",
     "locked": true,
     "points": 6,
     "schema_version": 3,
     "solution": false,
     "task": true
    }
   },
   "source": [
    "# Manually Graded plot elements (SKIP THIS CELL)\n",
    "* Legend has correct labels and colors (3 points)\n",
    "* X and y axis labels and ticks are not displayed (3 points)"
   ]
  },
  {
   "cell_type": "markdown",
   "metadata": {
    "deletable": false,
    "editable": false,
    "nbgrader": {
     "cell_type": "markdown",
     "checksum": "40e2d01f06ed6016b5e09c358707a18a",
     "grade": false,
     "grade_id": "cell-1796b5ef7165f3b9",
     "locked": true,
     "schema_version": 3,
     "solution": false,
     "task": false
    }
   },
   "source": [
    "## Plot 4: pre/post DTM Difference Raster Histogram (xx points)\n",
    "\n",
    "\n",
    "Plot a histogram of the cropped pre/post DTM data that you plotted above.\n",
    "Set your bin number to 30 and be sure to label the x and y axis with appropriate units!"
   ]
  },
  {
   "cell_type": "code",
   "execution_count": null,
   "metadata": {
    "deletable": false,
    "nbgrader": {
     "cell_type": "code",
     "checksum": "4851b57da0c447f8b432e291142f47db",
     "grade": false,
     "grade_id": "cell-52c3f3f1da3863fa",
     "locked": false,
     "schema_version": 3,
     "solution": true,
     "task": false
    }
   },
   "outputs": [],
   "source": [
    "# IMPORTANT: Do not use plt.show in this cell. Add your code for plot 4 here\n",
    "\n",
    "# YOUR CODE HERE\n",
    "raise NotImplementedError()\n",
    "\n",
    "### DO NOT REMOVE LINE BELOW ###\n",
    "plot_4_answer = nb.convert_axes(plt, which_axes=\"current\")"
   ]
  },
  {
   "cell_type": "code",
   "execution_count": null,
   "metadata": {
    "deletable": false,
    "editable": false,
    "nbgrader": {
     "cell_type": "code",
     "checksum": "1a5efa414d8e50b09e7a6980a31d603e",
     "grade": true,
     "grade_id": "cell-eed026e3342150e5",
     "locked": true,
     "points": 20,
     "schema_version": 3,
     "solution": false,
     "task": false
    }
   },
   "outputs": [],
   "source": []
  },
  {
   "cell_type": "markdown",
   "metadata": {
    "deletable": false,
    "nbgrader": {
     "cell_type": "markdown",
     "checksum": "0917d1b73214392252117759dce71db0",
     "grade": true,
     "grade_id": "cell-20b8ef52d7158c55",
     "locked": false,
     "points": 7,
     "schema_version": 3,
     "solution": true,
     "task": false
    }
   },
   "source": [
    "YOUR ANSWER HERE"
   ]
  }
 ],
 "metadata": {
  "kernelspec": {
   "display_name": "Python 3",
   "language": "python",
   "name": "python3"
  },
  "language_info": {
   "codemirror_mode": {
    "name": "ipython",
    "version": 3
   },
   "file_extension": ".py",
   "mimetype": "text/x-python",
   "name": "python",
   "nbconvert_exporter": "python",
   "pygments_lexer": "ipython3",
   "version": "3.7.6"
  },
  "varInspector": {
   "cols": {
    "lenName": 16,
    "lenType": 16,
    "lenVar": 40
   },
   "kernels_config": {
    "python": {
     "delete_cmd_postfix": "",
     "delete_cmd_prefix": "del ",
     "library": "var_list.py",
     "varRefreshCmd": "print(var_dic_list())"
    },
    "r": {
     "delete_cmd_postfix": ") ",
     "delete_cmd_prefix": "rm(",
     "library": "var_list.r",
     "varRefreshCmd": "cat(var_dic_list()) "
    }
   },
   "types_to_exclude": [
    "module",
    "function",
    "builtin_function_or_method",
    "instance",
    "_Feature"
   ],
   "window_display": false
  }
 },
 "nbformat": 4,
 "nbformat_minor": 2
}
